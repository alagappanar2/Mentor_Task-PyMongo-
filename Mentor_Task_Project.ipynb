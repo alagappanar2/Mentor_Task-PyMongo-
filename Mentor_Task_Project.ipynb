{
  "nbformat": 4,
  "nbformat_minor": 0,
  "metadata": {
    "colab": {
      "provenance": [],
      "authorship_tag": "ABX9TyNjZ9MFnFG0w60a168RoqE5",
      "include_colab_link": true
    },
    "kernelspec": {
      "name": "python3",
      "display_name": "Python 3"
    },
    "language_info": {
      "name": "python"
    }
  },
  "cells": [
    {
      "cell_type": "markdown",
      "metadata": {
        "id": "view-in-github",
        "colab_type": "text"
      },
      "source": [
        "<a href=\"https://colab.research.google.com/github/alagappanar2/Mentor_Task-PyMongo-/blob/main/Mentor_Task_Project.ipynb\" target=\"_parent\"><img src=\"https://colab.research.google.com/assets/colab-badge.svg\" alt=\"Open In Colab\"/></a>"
      ]
    },
    {
      "cell_type": "code",
      "execution_count": 24,
      "metadata": {
        "id": "l7WtbzEjrS_C"
      },
      "outputs": [],
      "source": [
        "from pymongo import MongoClient\n",
        "Task=MongoClient(\"mongodb://Alagappan:<Alagappan123>@ac-fndnntn-shard-00-00.8n5arko.mongodb.net:27017,ac-fndnntn-shard-00-01.8n5arko.mongodb.net:27017,ac-fndnntn-shard-00-02.8n5arko.mongodb.net:27017/?ssl=true&replicaSet=atlas-b4esxn-shard-0&authSource=admin&retryWrites=true&w=majority\")"
      ]
    },
    {
      "cell_type": "code",
      "source": [
        "A=Task[\"sample_mflix\"]\n"
      ],
      "metadata": {
        "id": "Cpg3-KAts7bx"
      },
      "execution_count": 14,
      "outputs": []
    },
    {
      "cell_type": "code",
      "source": [
        "Project=A[\"movies\"]"
      ],
      "metadata": {
        "id": "5tnZOafSwNPA"
      },
      "execution_count": 27,
      "outputs": []
    },
    {
      "cell_type": "code",
      "source": [
        "data=[]\n",
        "for i in Project.find({'$and':[{'year':{'$gte':1950}},{'year':{'$lte':1970}},{'year':{'$gte':2000}},{'year':{'$lte':2015}},{'tomatoes.viewer.rating':{'$gt':3}},{'$or':[{'genres':'Comedy'},{'geners':'Horror'},{'geners':'Fantasy'}]},{'imdb.rating':{'$gt':7}},{\"awards.wins\":{\"$gte\":1}}]},{'_id':0,'tittle':1,'directors':1,'cast':1,'imdb.rating':1,\"tomatoes.viewer.rating\":1}):\n",
        "  data.append(i)\n",
        "print(data)"
      ],
      "metadata": {
        "id": "1H_S2JiQ0lF7"
      },
      "execution_count": null,
      "outputs": []
    },
    {
      "cell_type": "code",
      "source": [
        "import pandas as pd\n",
        "a=pd.DataFrame(data)\n",
        "print(a)"
      ],
      "metadata": {
        "id": "ahUnLZ401jJ9"
      },
      "execution_count": null,
      "outputs": []
    }
  ]
}